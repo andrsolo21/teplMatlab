{
 "cells": [
  {
   "cell_type": "code",
   "execution_count": null,
   "metadata": {},
   "outputs": [],
   "source": []
  },
  {
   "cell_type": "code",
   "execution_count": 1,
   "metadata": {},
   "outputs": [],
   "source": [
    "import numpy as np"
   ]
  },
  {
   "cell_type": "code",
   "execution_count": 3,
   "metadata": {},
   "outputs": [],
   "source": [
    "def default_line(x,t):\n",
    "    if t == 0:\n",
    "        return 0\n",
    "    if x == 0:\n",
    "        return 2 * t\n",
    "    if x == 1:\n",
    "        return 3 * t * t\n",
    "    return 0"
   ]
  },
  {
   "cell_type": "code",
   "execution_count": 64,
   "metadata": {},
   "outputs": [],
   "source": [
    "def dop_func(x,t):\n",
    "    return t * (np.exp(x) - np.exp(-x))/2"
   ]
  },
  {
   "cell_type": "code",
   "execution_count": 54,
   "metadata": {},
   "outputs": [],
   "source": [
    "def create_matr(nx, x = 1, t = 0.5):\n",
    "    \n",
    "    h = x/nx\n",
    "    nt = int(np.ceil(t/(h*h/2)))\n",
    "    \n",
    "    s = t/nt\n",
    "    \n",
    "    q = s/(h*h)\n",
    "    \n",
    "    hx = np.linspace(0,x,nx)\n",
    "    ht = np.linspace(0,t,nt)\n",
    "    \n",
    "    matr = np.zeros((nt,nx))\n",
    "    return [matr,hx,ht, q]"
   ]
  },
  {
   "cell_type": "code",
   "execution_count": 65,
   "metadata": {},
   "outputs": [],
   "source": [
    "def fulling_matr(matr,hx,ht,q):\n",
    "    for i in range(len(ht)):\n",
    "        for j in range(len(hx)):\n",
    "            if (hx[j] == 0) or (hx[j] == 1) or (ht[i] == 0):\n",
    "                matr[i,j] = default_line(hx[j], ht[i])\n",
    "            else:\n",
    "                matr[i,j] = q * matr[i-1, j-1] + (1 - 2 * q) * matr[i-1, j] +  q * matr[i-1, j+1] + dop_func(hx[j], ht[i])\n",
    "    return matr"
   ]
  },
  {
   "cell_type": "code",
   "execution_count": 81,
   "metadata": {},
   "outputs": [],
   "source": [
    "matr,hx,ht,q = create_matr(6)\n",
    "matr = fulling_matr(matr,hx,ht,q)"
   ]
  },
  {
   "cell_type": "code",
   "execution_count": 82,
   "metadata": {},
   "outputs": [
    {
     "data": {
      "image/png": "[encoded data removed]",
      "text/plain": [
       "<Figure size 1152x192 with 2 Axes>"
      ]
     },
     "metadata": {
      "needs_background": "light"
     },
     "output_type": "display_data"
    }
   ],
   "source": [
    "import pylab as pl\n",
    "from sklearn import preprocessing\n",
    "X_scaled = preprocessing.scale(matr)\n",
    "pl.matshow(X_scaled.T)\n",
    "pl.colorbar()\n",
    "pl.show()"
   ]
  },
  {
   "cell_type": "code",
   "execution_count": null,
   "metadata": {},
   "outputs": [],
   "source": []
  }
 ],
 "metadata": {
  "kernelspec": {
   "display_name": "Python 3",
   "language": "python",
   "name": "python3"
  },
  "language_info": {
   "codemirror_mode": {
    "name": "ipython",
    "version": 3
   },
   "file_extension": ".py",
   "mimetype": "text/x-python",
   "name": "python",
   "nbconvert_exporter": "python",
   "pygments_lexer": "ipython3",
   "version": "3.7.3"
  }
 },
 "nbformat": 4,
 "nbformat_minor": 2
}
