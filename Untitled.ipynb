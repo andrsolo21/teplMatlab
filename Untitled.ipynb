{
 "cells": [
  {
   "cell_type": "code",
   "execution_count": null,
   "metadata": {},
   "outputs": [],
   "source": []
  },
  {
   "cell_type": "code",
   "execution_count": 178,
   "metadata": {},
   "outputs": [],
   "source": [
    "import numpy as np\n",
    "import pylab as pl\n",
    "from sklearn import preprocessing\n",
    "import matplotlib.pyplot as plt"
   ]
  },
  {
   "cell_type": "code",
   "execution_count": 179,
   "metadata": {},
   "outputs": [],
   "source": [
    "def default_line(x,t):\n",
    "    if t == 0:\n",
    "        return 0\n",
    "    if x == 0:\n",
    "        return 2 * t\n",
    "    if x == 1:\n",
    "        return 3 * t * t\n",
    "    return 0"
   ]
  },
  {
   "cell_type": "code",
   "execution_count": 180,
   "metadata": {},
   "outputs": [],
   "source": [
    "def dop_func(x,t):\n",
    "    return t * (np.exp(x) - np.exp(-x))/2"
   ]
  },
  {
   "cell_type": "code",
   "execution_count": 181,
   "metadata": {},
   "outputs": [],
   "source": [
    "def create_matr(nx, x = 1, t = 0.5):\n",
    "    \n",
    "    h = x/nx\n",
    "    nt = int(np.ceil(t/(h*h/2)))\n",
    "    \n",
    "    s = t/nt\n",
    "    \n",
    "    q = s/(h*h)\n",
    "    \n",
    "    hx = np.linspace(0,x,nx)\n",
    "    ht = np.linspace(0,t,nt)\n",
    "    \n",
    "    matr = np.zeros((nt,nx))\n",
    "    return [matr,hx,ht, q,s]"
   ]
  },
  {
   "cell_type": "code",
   "execution_count": 215,
   "metadata": {},
   "outputs": [],
   "source": [
    "def fulling_matr(matr,hx,ht,q,s):\n",
    "    for i in range(len(ht)):\n",
    "        for j in range(len(hx)):\n",
    "            if (hx[j] == 0) or (hx[j] == 1) or (ht[i] == 0):\n",
    "                matr[i,j] = default_line(hx[j], ht[i])\n",
    "            else:\n",
    "                matr[i,j] = q * matr[i-1, j-1] + (1 - 2 * q) * matr[i-1, j] + q * matr[i-1, j+1] + s* dop_func(hx[j], ht[i])\n",
    "    return matr"
   ]
  },
  {
   "cell_type": "code",
   "execution_count": 216,
   "metadata": {},
   "outputs": [],
   "source": [
    "def get_temp(matr):\n",
    "    \n",
    "    return matr[matr.shape[0]-1, int((matr.shape[1] - 1)/2) + 1]"
   ]
  },
  {
   "cell_type": "code",
   "execution_count": 217,
   "metadata": {},
   "outputs": [],
   "source": [
    "def solve(n):\n",
    "    matr,hx,ht,q,s = create_matr(n)\n",
    "    matr = fulling_matr(matr,hx,ht,q,s)\n",
    "    #X_scaled = preprocessing.scale(matr.T)\n",
    "    #pl.matshow(X_scaled)\n",
    "    #pl.matshow(matr.T)\n",
    "    #pl.colorbar()\n",
    "    #pl.show()\n",
    "    return get_temp(matr)"
   ]
  },
  {
   "cell_type": "code",
   "execution_count": 218,
   "metadata": {},
   "outputs": [
    {
     "data": {
      "text/plain": [
       "0.6465529812114595"
      ]
     },
     "execution_count": 218,
     "metadata": {},
     "output_type": "execute_result"
    }
   ],
   "source": [
    "solve(11)"
   ]
  },
  {
   "cell_type": "code",
   "execution_count": null,
   "metadata": {},
   "outputs": [],
   "source": []
  },
  {
   "cell_type": "code",
   "execution_count": 219,
   "metadata": {},
   "outputs": [],
   "source": [
    "m = []\n",
    "for i in range(3,50):\n",
    "    m.append(solve(i))"
   ]
  },
  {
   "cell_type": "code",
   "execution_count": 220,
   "metadata": {},
   "outputs": [
    {
     "data": {
      "text/plain": [
       "[0.75,\n",
       " 0.6905090735392857,\n",
       " 0.6797094525445698,\n",
       " 0.6718482318891444,\n",
       " 0.6605410330071073,\n",
       " 0.6619002239787286,\n",
       " 0.6515994047035474,\n",
       " 0.6556808950382623,\n",
       " 0.6465529812114595,\n",
       " 0.6514210178379842,\n",
       " 0.6433036369687443,\n",
       " 0.6483258067532468,\n",
       " 0.6410403577482212,\n",
       " 0.6459584647452107,\n",
       " 0.6393757291904393,\n",
       " 0.6441021983818414,\n",
       " 0.6381028273125631,\n",
       " 0.6426041798562201,\n",
       " 0.637094781141348,\n",
       " 0.6413696292713943,\n",
       " 0.6362776330741803,\n",
       " 0.6403347627074805,\n",
       " 0.6356038543867429,\n",
       " 0.6394546604224893,\n",
       " 0.6350379508615853,\n",
       " 0.6386975460120252,\n",
       " 0.63455645795344,\n",
       " 0.6380380524329424,\n",
       " 0.6341410679623982,\n",
       " 0.6374595544588705,\n",
       " 0.633779181340925,\n",
       " 0.6369476442068609,\n",
       " 0.6334617500703286,\n",
       " 0.636491474780741,\n",
       " 0.6331803425295954,\n",
       " 0.6360825346283357,\n",
       " 0.632929751731271,\n",
       " 0.635713476800706,\n",
       " 0.632704708532706,\n",
       " 0.6353791748475673,\n",
       " 0.6325018933734958,\n",
       " 0.6350745791578123,\n",
       " 0.6323178464481854,\n",
       " 0.6347961312765225,\n",
       " 0.6321502914708428,\n",
       " 0.6345405365571104,\n",
       " 0.6319971002271908]"
      ]
     },
     "execution_count": 220,
     "metadata": {},
     "output_type": "execute_result"
    }
   ],
   "source": [
    "m"
   ]
  },
  {
   "cell_type": "code",
   "execution_count": 221,
   "metadata": {},
   "outputs": [
    {
     "data": {
      "text/plain": [
       "0.6444827634759931"
      ]
     },
     "execution_count": 221,
     "metadata": {},
     "output_type": "execute_result"
    }
   ],
   "source": [
    "np.mean(m)"
   ]
  },
  {
   "cell_type": "code",
   "execution_count": null,
   "metadata": {},
   "outputs": [],
   "source": []
  },
  {
   "cell_type": "code",
   "execution_count": null,
   "metadata": {},
   "outputs": [],
   "source": []
  }
 ],
 "metadata": {
  "kernelspec": {
   "display_name": "Python 3",
   "language": "python",
   "name": "python3"
  },
  "language_info": {
   "codemirror_mode": {
    "name": "ipython",
    "version": 3
   },
   "file_extension": ".py",
   "mimetype": "text/x-python",
   "name": "python",
   "nbconvert_exporter": "python",
   "pygments_lexer": "ipython3",
   "version": "3.7.3"
  }
 },
 "nbformat": 4,
 "nbformat_minor": 2
}
