{
 "cells": [
  {
   "cell_type": "markdown",
   "metadata": {},
   "source": [
    "Дано: $u_t = u_{xx} + t*sh(x)$\n",
    "\n",
    "$u(x,0) = 0$, $u(0,t) = 2t$, $u(1,t) = 3t^2$\n",
    "\n",
    "$(x,t) $ $\\epsilon $ $[0, 1]\\times[0,0.5]$\n",
    "\n",
    "Найти: $u(0.5,0.5)$"
   ]
  },
  {
   "cell_type": "code",
   "execution_count": 1,
   "metadata": {},
   "outputs": [],
   "source": [
    "import numpy as np"
   ]
  },
  {
   "cell_type": "code",
   "execution_count": 47,
   "metadata": {},
   "outputs": [],
   "source": [
    "def lin_u(x,t):\n",
    "    if t == 0:\n",
    "        return 0\n",
    "    if x == 0:\n",
    "        return 2*t\n",
    "    if x == 1:\n",
    "        return 3*t*t\n",
    "    return 0\n"
   ]
  },
  {
   "cell_type": "code",
   "execution_count": 57,
   "metadata": {},
   "outputs": [],
   "source": [
    "def dop_func(x,t):\n",
    "    return t* (np.exp(x) - np.exp(-x))/2"
   ]
  },
  {
   "cell_type": "code",
   "execution_count": 82,
   "metadata": {},
   "outputs": [],
   "source": [
    "def get_prost(nx, x=1,t=0.5):\n",
    "    h = x/nx\n",
    "    nt = int(np.ceil(t/(h*h/2)))\n",
    "    s = t/nt\n",
    "       \n",
    "    matr = np.zeros((nt,nx))\n",
    "    \n",
    "    hx = np.linspace(0, x, nx)\n",
    "    \n",
    "    ht = np.linspace(0, t, nt)\n",
    "    \n",
    "    for i in range(nt):\n",
    "        for j in range(nx):\n",
    "            matr[i,j] = lin_u(hx[j], ht[i])\n",
    "    \n",
    "    return [matr, hx,ht,nx,nt,s/(h*h)]"
   ]
  },
  {
   "cell_type": "code",
   "execution_count": 83,
   "metadata": {},
   "outputs": [
    {
     "name": "stdout",
     "output_type": "stream",
     "text": [
      "[[0.         0.         0.         0.         0.        ]\n",
      " [0.04166667 0.         0.         0.         0.00130208]\n",
      " [0.08333333 0.         0.         0.         0.00520833]\n",
      " [0.125      0.         0.         0.         0.01171875]\n",
      " [0.16666667 0.         0.         0.         0.02083333]\n",
      " [0.20833333 0.         0.         0.         0.03255208]\n",
      " [0.25       0.         0.         0.         0.046875  ]\n",
      " [0.29166667 0.         0.         0.         0.06380208]\n",
      " [0.33333333 0.         0.         0.         0.08333333]\n",
      " [0.375      0.         0.         0.         0.10546875]\n",
      " [0.41666667 0.         0.         0.         0.13020833]\n",
      " [0.45833333 0.         0.         0.         0.15755208]\n",
      " [0.5        0.         0.         0.         0.1875    ]\n",
      " [0.54166667 0.         0.         0.         0.22005208]\n",
      " [0.58333333 0.         0.         0.         0.25520833]\n",
      " [0.625      0.         0.         0.         0.29296875]\n",
      " [0.66666667 0.         0.         0.         0.33333333]\n",
      " [0.70833333 0.         0.         0.         0.37630208]\n",
      " [0.75       0.         0.         0.         0.421875  ]\n",
      " [0.79166667 0.         0.         0.         0.47005208]\n",
      " [0.83333333 0.         0.         0.         0.52083333]\n",
      " [0.875      0.         0.         0.         0.57421875]\n",
      " [0.91666667 0.         0.         0.         0.63020833]\n",
      " [0.95833333 0.         0.         0.         0.68880208]\n",
      " [1.         0.         0.         0.         0.75      ]]\n"
     ]
    }
   ],
   "source": [
    "matr, hx,ht ,nx,nt,q= get_prost(5)\n",
    "print(matr)"
   ]
  },
  {
   "cell_type": "code",
   "execution_count": 84,
   "metadata": {},
   "outputs": [
    {
     "data": {
      "text/plain": [
       "(25, 5)"
      ]
     },
     "execution_count": 84,
     "metadata": {},
     "output_type": "execute_result"
    }
   ],
   "source": [
    "matr.shape"
   ]
  },
  {
   "cell_type": "code",
   "execution_count": 81,
   "metadata": {},
   "outputs": [
    {
     "data": {
      "text/plain": [
       "0.4999999999999999"
      ]
     },
     "execution_count": 81,
     "metadata": {},
     "output_type": "execute_result"
    }
   ],
   "source": [
    "q"
   ]
  },
  {
   "cell_type": "code",
   "execution_count": null,
   "metadata": {},
   "outputs": [],
   "source": []
  }
 ],
 "metadata": {
  "kernelspec": {
   "display_name": "Python 3",
   "language": "python",
   "name": "python3"
  },
  "language_info": {
   "codemirror_mode": {
    "name": "ipython",
    "version": 3
   },
   "file_extension": ".py",
   "mimetype": "text/x-python",
   "name": "python",
   "nbconvert_exporter": "python",
   "pygments_lexer": "ipython3",
   "version": "3.7.3"
  }
 },
 "nbformat": 4,
 "nbformat_minor": 2
}
