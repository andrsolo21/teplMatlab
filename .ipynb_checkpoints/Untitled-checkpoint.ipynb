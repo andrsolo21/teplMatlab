{
 "cells": [
  {
   "cell_type": "code",
   "execution_count": null,
   "metadata": {},
   "outputs": [],
   "source": []
  },
  {
   "cell_type": "code",
   "execution_count": 178,
   "metadata": {},
   "outputs": [],
   "source": [
    "import numpy as np\n",
    "import pylab as pl\n",
    "from sklearn import preprocessing\n",
    "import matplotlib.pyplot as plt"
   ]
  },
  {
   "cell_type": "code",
   "execution_count": 179,
   "metadata": {},
   "outputs": [],
   "source": [
    "def default_line(x,t):\n",
    "    if t == 0:\n",
    "        return 0\n",
    "    if x == 0:\n",
    "        return 2 * t\n",
    "    if x == 1:\n",
    "        return 3 * t * t\n",
    "    return 0"
   ]
  },
  {
   "cell_type": "code",
   "execution_count": 180,
   "metadata": {},
   "outputs": [],
   "source": [
    "def dop_func(x,t):\n",
    "    return t * (np.exp(x) - np.exp(-x))/2"
   ]
  },
  {
   "cell_type": "code",
   "execution_count": 181,
   "metadata": {},
   "outputs": [],
   "source": [
    "def create_matr(nx, x = 1, t = 0.5):\n",
    "    \n",
    "    h = x/nx\n",
    "    nt = int(np.ceil(t/(h*h/2)))\n",
    "    \n",
    "    s = t/nt\n",
    "    \n",
    "    q = s/(h*h)\n",
    "    \n",
    "    hx = np.linspace(0,x,nx)\n",
    "    ht = np.linspace(0,t,nt)\n",
    "    \n",
    "    matr = np.zeros((nt,nx))\n",
    "    return [matr,hx,ht, q,s]"
   ]
  },
  {
   "cell_type": "code",
   "execution_count": 182,
   "metadata": {},
   "outputs": [],
   "source": [
    "def fulling_matr(matr,hx,ht,q,s):\n",
    "    for i in range(len(ht)):\n",
    "        for j in range(len(hx)):\n",
    "            if (hx[j] == 0) or (hx[j] == 1) or (ht[i] == 0):\n",
    "                matr[i,j] = default_line(hx[j], ht[i])\n",
    "            else:\n",
    "                matr[i,j] = q * matr[i-1, j-1] + (1 - 2 * q) * matr[i-1, j] + q * matr[i-1, j+1] +  s * dop_func(hx[j], ht[i])\n",
    "    return matr"
   ]
  },
  {
   "cell_type": "code",
   "execution_count": 183,
   "metadata": {},
   "outputs": [],
   "source": [
    "def get_temp(matr):\n",
    "    \n",
    "    return matr[matr.shape[0]-1, int((matr.shape[1] - 1)/2) + 1]"
   ]
  },
  {
   "cell_type": "code",
   "execution_count": 189,
   "metadata": {},
   "outputs": [],
   "source": [
    "def solve(n):\n",
    "    matr,hx,ht,q,s = create_matr(n)\n",
    "    matr = fulling_matr(matr,hx,ht,q,s)\n",
    "    #X_scaled = preprocessing.scale(matr.T)\n",
    "    #pl.matshow(X_scaled)\n",
    "    pl.matshow(matr.T)\n",
    "    pl.colorbar()\n",
    "    pl.show()\n",
    "    return get_temp(matr)"
   ]
  },
  {
   "cell_type": "code",
   "execution_count": 190,
   "metadata": {},
   "outputs": [
    {
     "data": {
      "image/png": "[encoded data removed]",
      "text/plain": [
       "<Figure size 1152x144 with 2 Axes>"
      ]
     },
     "metadata": {
      "needs_background": "light"
     },
     "output_type": "display_data"
    },
    {
     "data": {
      "text/plain": [
       "0.6465529812114595"
      ]
     },
     "execution_count": 190,
     "metadata": {},
     "output_type": "execute_result"
    }
   ],
   "source": [
    "solve(11)"
   ]
  },
  {
   "cell_type": "code",
   "execution_count": null,
   "metadata": {},
   "outputs": [],
   "source": []
  },
  {
   "cell_type": "code",
   "execution_count": null,
   "metadata": {},
   "outputs": [],
   "source": []
  }
 ],
 "metadata": {
  "kernelspec": {
   "display_name": "Python 3",
   "language": "python",
   "name": "python3"
  },
  "language_info": {
   "codemirror_mode": {
    "name": "ipython",
    "version": 3
   },
   "file_extension": ".py",
   "mimetype": "text/x-python",
   "name": "python",
   "nbconvert_exporter": "python",
   "pygments_lexer": "ipython3",
   "version": "3.7.3"
  }
 },
 "nbformat": 4,
 "nbformat_minor": 2
}
