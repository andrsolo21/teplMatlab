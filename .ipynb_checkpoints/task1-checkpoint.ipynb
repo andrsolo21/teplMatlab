{
 "cells": [
  {
   "cell_type": "code",
   "execution_count": null,
   "metadata": {},
   "outputs": [],
   "source": []
  },
  {
   "cell_type": "code",
   "execution_count": 1,
   "metadata": {},
   "outputs": [],
   "source": [
    "import numpy as np\n",
    "import pylab as pl\n",
    "import matplotlib.pyplot as plt"
   ]
  },
  {
   "cell_type": "code",
   "execution_count": 2,
   "metadata": {},
   "outputs": [],
   "source": [
    "def default_line(x,t):\n",
    "    if t == 0:\n",
    "        return 0\n",
    "    if x == 0:\n",
    "        return 2 * t\n",
    "    if x == 1:\n",
    "        return 3 * t * t\n",
    "    return 0"
   ]
  },
  {
   "cell_type": "code",
   "execution_count": 3,
   "metadata": {},
   "outputs": [],
   "source": [
    "def dop_func(x,t):\n",
    "    return t * (np.exp(x) - np.exp(-x))/2"
   ]
  },
  {
   "cell_type": "code",
   "execution_count": 4,
   "metadata": {},
   "outputs": [],
   "source": [
    "def create_matr(nx, x = 1, t = 0.5):\n",
    "    \n",
    "    h = x/nx\n",
    "    nt = int(np.ceil(t/(h*h/2)))\n",
    "    \n",
    "    s = t/nt\n",
    "    \n",
    "    q = s/(h*h)\n",
    "    \n",
    "    hx = np.linspace(0,x,nx)\n",
    "    ht = np.linspace(0,t,nt)\n",
    "    \n",
    "    matr = np.zeros((nt,nx))\n",
    "    return [matr,hx,ht, q,s]"
   ]
  },
  {
   "cell_type": "code",
   "execution_count": 5,
   "metadata": {},
   "outputs": [],
   "source": [
    "def fulling_matr(matr,hx,ht,q,s):\n",
    "    for i in range(len(ht)):\n",
    "        for j in range(len(hx)):\n",
    "            if (hx[j] == 0) or (hx[j] == 1) or (ht[i] == 0):\n",
    "                matr[i,j] = default_line(hx[j], ht[i])\n",
    "            else:\n",
    "                matr[i,j] = q * matr[i-1, j-1] + (1 - 2 * q) * matr[i-1, j] + q * matr[i-1, j+1] + s* dop_func(hx[j], ht[i])\n",
    "    return matr"
   ]
  },
  {
   "cell_type": "code",
   "execution_count": 6,
   "metadata": {},
   "outputs": [],
   "source": [
    "def get_temp(matr):    \n",
    "    return matr[matr.shape[0]-1, int((matr.shape[1] - 1)/2) + 1]"
   ]
  },
  {
   "cell_type": "code",
   "execution_count": 7,
   "metadata": {},
   "outputs": [],
   "source": [
    "def solve(n):\n",
    "    matr,hx,ht,q,s = create_matr(n)\n",
    "    matr = fulling_matr(matr,hx,ht,q,s)\n",
    "    return [get_temp(matr),matr]"
   ]
  },
  {
   "cell_type": "code",
   "execution_count": 15,
   "metadata": {},
   "outputs": [],
   "source": [
    "def print_m(matr):\n",
    "    pl.matshow(matr)\n",
    "    pl.colorbar()\n",
    "    pl.figure(figsize=(10,5))\n",
    "    #pl.set_figwidth(12)    #  ширина Figure\n",
    "    #pl.set_figheight(6) \n",
    "    pl.show()"
   ]
  },
  {
   "cell_type": "code",
   "execution_count": 29,
   "metadata": {},
   "outputs": [],
   "source": [
    "def print_m_2(matr):\n",
    "    #fig, ax = plt.subplots()\n",
    "    #plt.figure(figsize=(10,10))\n",
    "    plt.figure()\n",
    "    plt.imshow(matr)\n",
    "\n",
    "    plt.set_cmap('hot')\n",
    "    plt.savefig(\"frame.png\")\n",
    "    #fig.set_figwidth(12)    #  ширина и\n",
    "    #fig.set_figheight(6)    #  высота \"Figure\"\n",
    "\n",
    "    plt.show()"
   ]
  },
  {
   "cell_type": "code",
   "execution_count": 9,
   "metadata": {},
   "outputs": [],
   "source": [
    "m = []\n",
    "for i in range(3,50):\n",
    "    r = solve(i)\n",
    "    m.append(r[0])"
   ]
  },
  {
   "cell_type": "code",
   "execution_count": 10,
   "metadata": {},
   "outputs": [
    {
     "data": {
      "text/plain": [
       "[0.6718482318891444,\n",
       " 0.6605410330071073,\n",
       " 0.6619002239787286,\n",
       " 0.6515994047035474,\n",
       " 0.6556808950382623,\n",
       " 0.6465529812114595,\n",
       " 0.6514210178379842,\n",
       " 0.6433036369687443,\n",
       " 0.6483258067532468,\n",
       " 0.6410403577482212,\n",
       " 0.6459584647452107,\n",
       " 0.6393757291904393,\n",
       " 0.6441021983818414,\n",
       " 0.6381028273125631,\n",
       " 0.6426041798562201,\n",
       " 0.637094781141348,\n",
       " 0.6413696292713943]"
      ]
     },
     "execution_count": 10,
     "metadata": {},
     "output_type": "execute_result"
    }
   ],
   "source": [
    "m[3:20]"
   ]
  },
  {
   "cell_type": "code",
   "execution_count": 11,
   "metadata": {},
   "outputs": [
    {
     "data": {
      "text/plain": [
       "0.6444827634759931"
      ]
     },
     "execution_count": 11,
     "metadata": {},
     "output_type": "execute_result"
    }
   ],
   "source": [
    "np.mean(m)"
   ]
  },
  {
   "cell_type": "code",
   "execution_count": 30,
   "metadata": {},
   "outputs": [
    {
     "data": {
      "image/png": "[encoded data removed]",
      "text/plain": [
       "<Figure size 432x288 with 1 Axes>"
      ]
     },
     "metadata": {
      "needs_background": "light"
     },
     "output_type": "display_data"
    }
   ],
   "source": [
    "r = solve(100)\n",
    "print_m_2(r[1])"
   ]
  },
  {
   "cell_type": "code",
   "execution_count": null,
   "metadata": {},
   "outputs": [],
   "source": []
  },
  {
   "cell_type": "code",
   "execution_count": null,
   "metadata": {},
   "outputs": [],
   "source": []
  }
 ],
 "metadata": {
  "kernelspec": {
   "display_name": "Python 3",
   "language": "python",
   "name": "python3"
  },
  "language_info": {
   "codemirror_mode": {
    "name": "ipython",
    "version": 3
   },
   "file_extension": ".py",
   "mimetype": "text/x-python",
   "name": "python",
   "nbconvert_exporter": "python",
   "pygments_lexer": "ipython3",
   "version": "3.7.3"
  }
 },
 "nbformat": 4,
 "nbformat_minor": 2
}
